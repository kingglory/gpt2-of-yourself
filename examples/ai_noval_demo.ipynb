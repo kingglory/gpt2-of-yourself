{
  "nbformat": 4,
  "nbformat_minor": 0,
  "metadata": {
    "colab": {
      "name": "ai_noval_demo.ipynb",
      "provenance": [],
      "collapsed_sections": []
    },
    "kernelspec": {
      "display_name": "Python 3",
      "name": "python3"
    }
  },
  "cells": [
    {
      "cell_type": "code",
      "metadata": {
        "id": "-irg8cbucTA6"
      },
      "source": [
        "!pip install transformers sentencepiece"
      ],
      "execution_count": null,
      "outputs": []
    },
    {
      "cell_type": "code",
      "metadata": {
        "id": "4ba0k0hkcNks",
        "outputId": "b023991e-da51-4344-acf1-905b59ce1b44",
        "colab": {
          "base_uri": "https://localhost:8080/"
        }
      },
      "source": [
        "from transformers import XLNetTokenizer, TFGPT2LMHeadModel\n",
        "\n",
        "tokenizer = XLNetTokenizer.from_pretrained('mymusise/EasternFantasyNoval-small')\n",
        "model = TFGPT2LMHeadModel.from_pretrained(\"mymusise/EasternFantasyNoval-small\")"
      ],
      "execution_count": null,
      "outputs": [
        {
          "output_type": "stream",
          "text": [
            "All model checkpoint layers were used when initializing TFGPT2LMHeadModel.\n",
            "\n",
            "All the layers of TFGPT2LMHeadModel were initialized from the model checkpoint at mymusise/EasternFantasyNoval.\n",
            "If your task is similar to the task the model of the checkpoint was trained on, you can already use TFGPT2LMHeadModel for predictions without further training.\n"
          ],
          "name": "stderr"
        }
      ]
    },
    {
      "cell_type": "code",
      "metadata": {
        "id": "AHfpYLsPdEgU",
        "outputId": "a4c82e77-6840-44a3-c298-f11c6731a741",
        "colab": {
          "background_save": true
        }
      },
      "source": [
        "from transformers import TextGenerationPipeline\n",
        "import jieba\n",
        "\n",
        "text_generater = TextGenerationPipeline(model, tokenizer)\n",
        "\n",
        "texts = [\n",
        "    '少年对面站着一位中年人，这位中年人两鬓略有些斑白，穿着一套青衫。尽管衣衫有些脱色，但却洗得很干净。',\n",
        "    '风凡答应了一声，将地上的东西都收了起来，然后端坐在地上，开始默想绿简的样子。他的脑海中出现了一片片字迹，这正是五行玄蒙经的内容。',\n",
        "]\n",
        "\n",
        "for text in texts:\n",
        "    print(text_generater(text, max_length=120 + len(text), do_sample=True, top_k=0))\n",
        "    print(text_generater(text, max_length=120 + len(text), do_sample=True, top_k=20))\n",
        "    print(text_generater(text, max_length=120 + len(text), do_sample=True, top_k=0, no_repeat_ngram_size=2))\n",
        "    print(text_generater(text, max_length=120 + len(text), do_sample=True, top_k=10, no_repeat_ngram_size=3))\n",
        "    print(text_generater(text, max_length=120 + len(text), do_sample=True, top_k=10, no_repeat_ngram_size=3))"
      ],
      "execution_count": null,
      "outputs": [
        {
          "output_type": "stream",
          "text": [
"[{'generated_text': '少年对面站着一位中年人，这位中年人两鬓略有些斑白，穿着一套青衫。尽管衣衫有些脱色，但却洗得很干净。他双目微微闪烁,沉声道:“真是一位好人,刚才还问我是自己的同伴,是否喜欢我?” 那中年人正是夜岚。 句芒已经带着一群手下退了回去。 是夜岚,夜天岚,夜岚,夜无痕要跟随夜天璇们同时外出历练。 夜天岚和夜风一边赶路,一边追赶夜天痕到处赶路,夕亦岚和夜风也是紧跟其'}]\n",
"[{'generated_text': '少年对面站着一位中年人，这位中年人两鬓略有些斑白，穿着一套青衫。尽管衣衫有些脱色，但却洗得很干净。 “看来还是得去看看。这几年的苦苦劳动,我们可都忘记了。”那人看着自己的长辈,微笑道,声音虽然有些颤抖,却并没有像其他人一样,但却是那种感觉。 “嗯......不要太过紧张,那些人我很好。”这时,那中年人却是忽然道:“你可以走了。” 中年男子冷笑一声,道:“有你的份,我绝'}]\n",
"[{'generated_text': '少年对面站着一位中年人，这位中年人两鬓略有些斑白，穿着一套青衫。尽管衣衫有些脱色，但却洗得很干净。他身下的灰尘看起来颇为华丽。 此人身边跟着个虽还是那具尸体,不过这人是福星将他关进了蓬莱仙岛的大弟子璟最后给他的一张画像。 “桑瑟瑟。”那中壮汉手挥了下手中的玉瓶。如这画上装着的不是。那原本应该是合天雷的长老。昭日神功在这儿完全探得一干二净,了却流通,退而'}]\n",
"[{'generated_text': '少年对面站着一位中年人，这位中年人两鬓略有些斑白，穿着一套青衫。尽管衣衫有些脱色，但却洗得很干净。他的目光扫过那人,发觉他的年纪不大不小。但是他身上的伤痕,却很清晰:“你就是青云山弟子?” “我是云霄峰弟子,青云派弟子!”这位看上去只有二十多岁的青云弟子,脸色一阵苍白。云霄阁弟子一向是这位青云阁弟子,这一位,也是青云门弟子。 云霄阁的弟子是青云宗最出名的弟子之一,也有几个是青'}]\n",
"[{'generated_text': '少年对面站着一位中年人，这位中年人两鬓略有些斑白，穿着一套青衫。尽管衣衫有些脱色，但却洗得很干净。看到那青衫中年男子,便是其余几人,也纷纷点头应声。 “哈哈......好啊!”青衫人大笑道,看到众人,纷纷赞叹起来。 “不错,正是小兄弟,不知这位小兄弟是?”中年中年修士看到他,心头顿喜,但脸上却是笑容满面的说道,“小兄弟不才,在下青衫老祖,是小友,是天地间最顶级别的修士。'}]\n",
"[{'generated_text': '风凡答应了一声，将地上的东西都收了起来，然后端坐在地上，开始默想绿简的样子。他的脑海中出现了一片片字迹，这正是五行玄蒙经的内容。 “随意一卷,入心入肺,真正的内功是一重修行的客户,这里是每一个国家的地盘,其他国家需要经过系统的考验,只有读取更广博的才能才能得到其他修行的出身,不过现在开始修炼了!” “谢谢大家关注!” 虽然保持着先前寇立的觉悟,可是一个修行者,就能在毕方眼中看到什么呢? “待会儿我'}]\n",
"[{'generated_text': '风凡答应了一声，将地上的东西都收了起来，然后端坐在地上，开始默想绿简的样子。他的脑海中出现了一片片字迹，这正是五行玄蒙经的内容。而此刻,此刻在他的脑海中也出现了“五行玄蒙经”! 这是一种奇怪的情况,一种奇怪的气体散发出来,仿佛是要把所有的东西都吞噬掉一样。这是一种无所不能的气体,这无形的无形之中,有着无形的阻碍,让人产生不解的感觉。但是,这种气体却是能量,而不是能量,而是能量的克星,这就是无形的无'}]\n",
"[{'generated_text': '风凡答应了一声，将地上的东西都收了起来，然后端坐在地上，开始默想绿简的样子。他的脑海中出现了一片片字迹，这正是五行玄蒙经的内容。 天下第一高僧是一个个年轻年纪,长相粗狂、连自己也是老样子,而且一身黄毛颜色都是紫色,另外两个看起来就是年长已久的美少年。至于老者,因为头发上扎着紫『色』的胡须所在,所以整个人就像黑鹰一样的目光,阴森的盯着欧阳宁。 四大高手面对欧英文那金袍男子,气势汹汹,一步一步的朝着绿明离去的方向行去,'}]\n",
"[{'generated_text': '风凡答应了一声，将地上的东西都收了起来，然后端坐在地上，开始默想绿简的样子。他的脑海中出现了一片片字迹，这正是五行玄蒙经的内容。只见这个字迹在地下的时候,竟然发出了阵阵的声音,仿佛这里就是地府一样,只是这样看起来像是一个地下室。 “好,我答应你,一定会回来的,你一定可以找到我,我也会回去的,我要去找一个合适的地方。” “好。”绿简答应一声,然後就转过身,开口说道。 “我会去找你的。”林阳昊点点头,然'}]\n",
"[{'generated_text': '风凡答应了一声，将地上的东西都收了起来，然后端坐在地上，开始默想绿简的样子。他的脑海中出现了一片片字迹，这正是五行玄蒙经的内容。 他将绿简收拾了一下,然後开始思考该如何修炼的方法。因为在这里,他已经没有时间去想了,现在要去的只有一条路可以走。这里离绿笔山有一段距离,这里只要他修炼成功的地方,不管是什么样的东西,他都会选择走下去的路。 绿笔山,是一种奇怪的地脉的中心,这一条山脉,就是一条长约百米的通道,通'}]\n"
          ],
          "name": "stdout"
        }
      ]
    }
  ]
}
